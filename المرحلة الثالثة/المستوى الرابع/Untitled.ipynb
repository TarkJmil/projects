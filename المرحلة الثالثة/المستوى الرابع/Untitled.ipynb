{
 "cells": [
  {
   "cell_type": "code",
   "execution_count": null,
   "id": "70081256-a2a7-4b78-ad94-90056017dee7",
   "metadata": {},
   "outputs": [],
   "source": [
    "import nltk\n",
    "from nltk.corpus import stopwords\n",
    "from nltk.tokenize import word_tokenize\n",
    "from nltk.probability import FreqDist\n",
    "import string\n",
    "\n",
    "# تحميل المكتبة\n",
    "nltk.download('punkt')\n",
    "nltk.download('stopwords')\n",
    "\n",
    "# نص للتحليل\n",
    "نص = \"هذا هو مثال على نصوص لغة طبيعية. يتضمن الكلمات الشائعة و الكلمات غير الشائعة.\"\n",
    "\n",
    "# إزالة الكلمات الشائعة\n",
    "stop_words = set(stopwords.words('arabic'))\n",
    "tokens = word_tokenize(نص)\n",
    "tokens_without_stopwords = [word for word in tokens if word not in stop_words]\n",
    "\n",
    "# حساب الترددات\n",
    "fdist = FreqDist(tokens_without_stopwords)\n",
    "print(fdist)\n",
    "\n",
    "# إزالة الحروف والرموز\n",
    "tokens_without_punctuation = [word for word in tokens_without_stopwords if word not in string.punctuation]\n",
    "\n",
    "# حساب الترددات بعد إزالة الحروف والرموز\n",
    "fdist_without_punctuation = FreqDist(tokens_without_punctuation\n",
    "print(fdist_without_punctuation)"
   ]
  },
  {
   "cell_type": "code",
   "execution_count": null,
   "id": "7ebb8715-d60b-48eb-ab32-87572507a8de",
   "metadata": {},
   "outputs": [],
   "source": [
    "import nltk\n",
    "from nltk.corpus import stopwords\n",
    "from nltk.tokenize import word_tokenize\n",
    "from nltk.probability import FreqDist\n",
    "import string\n",
    "\n",
    "# تحميل المكتبة\n",
    "nltk.download('punkt')\n",
    "nltk.download('stopwords')\n",
    "\n",
    "# نص للتحليل\n",
    "نص = \"هذا هو مثال على نصوص لغة طبيعية. يتضمن الكلمات الشائعة و الكلمات غير الشائعة.\"\n",
    "\n",
    "# إزالة الكلمات الشائعة\n",
    "stop_words = set(stopwords.words('arabic'))\n",
    "tokens = word_tokenize(نص)\n",
    "tokens_without_stopwords = [word for word in tokens if word not in stop_words]\n",
    "\n",
    "# حساب الترددات\n",
    "fdist = FreqDist(tokens_without_stopwords)\n",
    "print(fdist)\n",
    "\n",
    "# إزالة الحروف والرموز\n",
    "tokens_without_punctuation = [word for word in tokens_without_stopwords if word not in string.punctuation]\n",
    "\n",
    "# حساب الترددات بعد إزالة الحروف والرموز\n",
    "fdist_without_punctuation = FreqDist(tokens_without_punctuation)\n",
    "print(fdist_without_punctuation)"
   ]
  },
  {
   "cell_type": "code",
   "execution_count": null,
   "id": "4609b628-2690-4a3b-87bf-6945ebc64182",
   "metadata": {},
   "outputs": [],
   "source": []
  },
  {
   "cell_type": "code",
   "execution_count": null,
   "id": "51a28e74-1edb-4e94-8f5a-f84597c7532b",
   "metadata": {},
   "outputs": [],
   "source": []
  }
 ],
 "metadata": {
  "kernelspec": {
   "display_name": "Python 3 (ipykernel)",
   "language": "python",
   "name": "python3"
  },
  "language_info": {
   "codemirror_mode": {
    "name": "ipython",
    "version": 3
   },
   "file_extension": ".py",
   "mimetype": "text/x-python",
   "name": "python",
   "nbconvert_exporter": "python",
   "pygments_lexer": "ipython3",
   "version": "3.12.7"
  }
 },
 "nbformat": 4,
 "nbformat_minor": 5
}
